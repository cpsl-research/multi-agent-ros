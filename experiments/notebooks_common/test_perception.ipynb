{
 "cells": [
  {
   "cell_type": "code",
   "execution_count": null,
   "id": "e6900b2f-2d8b-4cb4-aaf0-9c63350815f8",
   "metadata": {},
   "outputs": [],
   "source": [
    "from avapi.carla import CarlaScenesManager\n",
    "\n",
    "data_root = \"/data/shared/CARLA/multi-agent-intersection/\"\n",
    "CSM = CarlaScenesManager(data_dir=data_root, split=\"train\")"
   ]
  },
  {
   "cell_type": "code",
   "execution_count": null,
   "id": "5e845c2c-8f72-4c12-aecb-1e4b752925f2",
   "metadata": {},
   "outputs": [],
   "source": [
    "from avstack.modules.perception.object3d import MMDetObjectDetector3D\n",
    "\n",
    "detector = MMDetObjectDetector3D(model='pointpillars', dataset='carla-infrastructure')"
   ]
  },
  {
   "cell_type": "code",
   "execution_count": null,
   "id": "11ca6eff-f3bb-453a-aa92-ad86c742ab48",
   "metadata": {},
   "outputs": [],
   "source": [
    "objs = CDM.get_objects_global(frame=frames[idx_frame])"
   ]
  },
  {
   "cell_type": "code",
   "execution_count": null,
   "id": "5b4a1678-dfa6-4f8c-99f6-87218e6d9c75",
   "metadata": {},
   "outputs": [],
   "source": [
    "from avapi.visualize.snapshot import show_image_with_boxes\n",
    "\n",
    "# get dataset \n",
    "idx_scene = 0\n",
    "CDM = CSM.get_scene_dataset_by_index(idx_scene)\n",
    "\n",
    "# get a lidar point cloud\n",
    "idx_frame = 20\n",
    "ID_agent = 3\n",
    "frames = CDM.get_frames(sensor=\"lidar-0\", agent=ID_agent)\n",
    "agent = CDM.get_agent(frame=frames[idx_frame], agent=ID_agent)\n",
    "pc = CDM.get_lidar(frame=frames[idx_frame], sensor=\"lidar-0\", agent=ID_agent)\n",
    "img_front = CDM.get_image(frame=frames[idx_frame], sensor=\"camera-0\", agent=ID_agent)\n",
    "objs = CDM.get_objects(frame=frames[idx_frame], sensor=\"lidar-0\", agent=ID_agent)\n",
    "\n",
    "# show image with perception output\n",
    "objs_det = detector(pc)\n",
    "show_image_with_boxes(img_front, objs_det, inline=True)"
   ]
  },
  {
   "cell_type": "code",
   "execution_count": null,
   "id": "a9efb589-08bd-4bdb-b1cf-22f5c8fdd0ad",
   "metadata": {},
   "outputs": [],
   "source": []
  }
 ],
 "metadata": {
  "kernelspec": {
   "display_name": "Python 3 (ipykernel)",
   "language": "python",
   "name": "python3"
  },
  "language_info": {
   "codemirror_mode": {
    "name": "ipython",
    "version": 3
   },
   "file_extension": ".py",
   "mimetype": "text/x-python",
   "name": "python",
   "nbconvert_exporter": "python",
   "pygments_lexer": "ipython3",
   "version": "3.10.12"
  }
 },
 "nbformat": 4,
 "nbformat_minor": 5
}
