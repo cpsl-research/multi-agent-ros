{
 "cells": [
  {
   "cell_type": "code",
   "execution_count": null,
   "id": "8555139d-96b8-4b35-ae4f-15d5fd83ff42",
   "metadata": {},
   "outputs": [],
   "source": [
    "import numpy as np\n",
    "from avtrust.distributions import TrustBetaDistribution"
   ]
  },
  {
   "cell_type": "code",
   "execution_count": null,
   "id": "bd4c40f7-9283-44da-baf8-0672bb7ce8d6",
   "metadata": {},
   "outputs": [],
   "source": [
    "def area_below_cdf(trust: \"TrustDistribution\") -> float:\n",
    "    dx = 1.0 / 1000\n",
    "    xs = np.arange(start=0, stop=1.0, step=dx)\n",
    "    cdfs = trust.cdf(xs)\n",
    "    return sum(cdfs * dx)\n",
    "\n",
    "\n",
    "def area_above_cdf(trust: \"TrustDistribution\") -> float:\n",
    "    return 1 - area_below_cdf(trust)"
   ]
  },
  {
   "cell_type": "code",
   "execution_count": null,
   "id": "0f9ef8f0-f9a3-474c-88fe-3ca1fbd365c1",
   "metadata": {},
   "outputs": [],
   "source": [
    "np.random.randn(2,10).shape"
   ]
  },
  {
   "cell_type": "code",
   "execution_count": null,
   "id": "61b32088-ce79-42f7-83a9-dfb6b451e60a",
   "metadata": {},
   "outputs": [],
   "source": [
    "dist = TrustBetaDistribution(timestamp=0, identifier=0, alpha=10, beta=2)\n",
    "print(area_above_cdf(dist))\n",
    "print(dist.mean)"
   ]
  },
  {
   "cell_type": "code",
   "execution_count": null,
   "id": "6e2eeb27-7df9-4069-8a0a-f0083ab6339b",
   "metadata": {},
   "outputs": [],
   "source": [
    "\n",
    "for alpha, beta in 10 + np.array([1,3])*np.random.randn(10,2):\n",
    "    dist = TrustBetaDistribution(timestamp=0, identifier=0, alpha=alpha, beta=beta)\n",
    "    print(\"Area below: \", area_below_cdf(dist), \"----- 1 - Expectation: \", 1 - dist.mean)"
   ]
  },
  {
   "cell_type": "code",
   "execution_count": null,
   "id": "bd662c84-555e-42fc-80c8-682e8f4b19e9",
   "metadata": {},
   "outputs": [],
   "source": []
  }
 ],
 "metadata": {
  "kernelspec": {
   "display_name": "Python 3 (ipykernel)",
   "language": "python",
   "name": "python3"
  },
  "language_info": {
   "codemirror_mode": {
    "name": "ipython",
    "version": 3
   },
   "file_extension": ".py",
   "mimetype": "text/x-python",
   "name": "python",
   "nbconvert_exporter": "python",
   "pygments_lexer": "ipython3",
   "version": "3.10.12"
  }
 },
 "nbformat": 4,
 "nbformat_minor": 5
}
