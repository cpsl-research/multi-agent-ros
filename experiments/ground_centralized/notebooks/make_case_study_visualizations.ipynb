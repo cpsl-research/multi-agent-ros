{
 "cells": [
  {
   "cell_type": "code",
   "execution_count": null,
   "id": "25f045f2-0aa7-4dd6-91c5-4d0ba1c5ff33",
   "metadata": {},
   "outputs": [],
   "source": [
    "import os\n",
    "\n",
    "fig_out_dir = \"figures/case_study_visualizations\"\n",
    "os.makedirs(fig_out_dir, exist_ok=True)"
   ]
  },
  {
   "cell_type": "code",
   "execution_count": null,
   "id": "a91c7cf4-622b-4486-9f9e-ad323ebbb7c5",
   "metadata": {},
   "outputs": [],
   "source": [
    "from avapi.carla import CarlaScenesManager\n",
    "\n",
    "data_root = \"/data/shared/CARLA/multi-agent-intersection/\"\n",
    "CSM = CarlaScenesManager(data_dir=data_root, split=\"train\")"
   ]
  },
  {
   "cell_type": "code",
   "execution_count": null,
   "id": "10f10d15-1320-427d-ad47-570fdc5de52a",
   "metadata": {},
   "outputs": [],
   "source": [
    "from avapi.visualize.snapshot import show_image_with_boxes\n",
    "from PIL import Image\n",
    "\n",
    "# loop over scene to make images\n",
    "for idx_scene in range(4):\n",
    "    CDM = CSM.get_scene_dataset_by_index(idx_scene)\n",
    "    scene_dir = os.path.join(fig_out_dir, f\"scene{idx_scene}\")\n",
    "    os.makedirs(scene_dir, exist_ok=True)\n",
    "\n",
    "    # loop over agents and frames\n",
    "    idx_frames = [20, 40, 60]\n",
    "    frame_agent_tuples = [\n",
    "        (idx_frame, ID_agent) for ID_agent in range(4) for idx_frame in idx_frames\n",
    "    ]\n",
    "    for idx_frame, ID_agent in frame_agent_tuples:\n",
    "        frames = CDM.get_frames(sensor=\"camera-0\", agent=ID_agent)\n",
    "\n",
    "        # get boxes near the ego\n",
    "        objs = CDM.get_objects_global(\n",
    "            frame=frames[idx_frame], ignore_static_agents=True\n",
    "        )\n",
    "        if ID_agent == 0:\n",
    "            ego = CDM.get_agent(frame=frames[idx_frame], agent=0)\n",
    "            objs_filter = [obj for obj in objs if 2 < obj.distance(ego) < 15]\n",
    "        else:\n",
    "            objs_filter = objs\n",
    "\n",
    "        # get image\n",
    "        frame = frames[idx_frame]\n",
    "        img_ego = CDM.get_image(\n",
    "            frame=frames[idx_frame], sensor=\"camera-0\", agent=ID_agent\n",
    "        )\n",
    "        base_filename = os.path.join(\n",
    "            scene_dir, \"agent{}_frame{}_image{}\".format(ID_agent, frame, \"{}\")\n",
    "        )\n",
    "\n",
    "        # ----------------------------------\n",
    "        # Image without boxes\n",
    "        # ----------------------------------\n",
    "        im = Image.fromarray(img_ego.data)\n",
    "        im.save(base_filename.format(\"_noboxes.pdf\"))\n",
    "        im.save(base_filename.format(\"_noboxes.png\"))\n",
    "\n",
    "        # ----------------------------------\n",
    "        # Image with boxes\n",
    "        # ----------------------------------\n",
    "\n",
    "        # show image\n",
    "        img_cv_out = show_image_with_boxes(\n",
    "            img_ego, objs_filter, inline=True, return_image=True\n",
    "        )\n",
    "\n",
    "        # save image\n",
    "        im = Image.fromarray(img_cv_out)\n",
    "        im.save(base_filename.format(\".pdf\"))\n",
    "        im.save(base_filename.format(\".png\"))"
   ]
  },
  {
   "cell_type": "code",
   "execution_count": null,
   "id": "4fa0edde-780b-4c54-b090-23e35035f9a4",
   "metadata": {},
   "outputs": [],
   "source": []
  }
 ],
 "metadata": {
  "kernelspec": {
   "display_name": "Python 3 (ipykernel)",
   "language": "python",
   "name": "python3"
  },
  "language_info": {
   "codemirror_mode": {
    "name": "ipython",
    "version": 3
   },
   "file_extension": ".py",
   "mimetype": "text/x-python",
   "name": "python",
   "nbconvert_exporter": "python",
   "pygments_lexer": "ipython3",
   "version": "3.10.12"
  }
 },
 "nbformat": 4,
 "nbformat_minor": 5
}
