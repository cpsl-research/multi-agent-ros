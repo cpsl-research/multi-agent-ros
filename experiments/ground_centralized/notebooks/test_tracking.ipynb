{
 "cells": [
  {
   "cell_type": "code",
   "execution_count": null,
   "metadata": {},
   "outputs": [],
   "source": [
    "import numpy as np\n",
    "import matplotlib.pyplot as plt\n",
    "\n",
    "from avstack.datastructs import DataContainer\n",
    "from avstack.geometry import GlobalOrigin2D\n",
    "from avstack.modules.perception.detections import CentroidDetection\n",
    "from avstack.modules.tracking import BasicXyTracker"
   ]
  },
  {
   "cell_type": "code",
   "execution_count": null,
   "metadata": {},
   "outputs": [],
   "source": [
    "# set up simulation parameters\n",
    "dt = 0.1\n",
    "frames = 100\n",
    "n_tru = 10  # number of true targets\n",
    "n_fps = 6  # number of fps per frame\n",
    "sx = sy = 20\n",
    "sv = 2\n",
    "true_states_i = np.array([[sx, sy, sv, sv]]).T * np.random.randn(\n",
    "    4, n_tru\n",
    ")  # states are [x, y, vx, vy]\n",
    "true_states_f = (\n",
    "    true_states_i\n",
    "    + dt\n",
    "    * frames\n",
    "    * np.array([[0, 0, 1, 0], [0, 0, 0, 1], [0, 0, 0, 0], [0, 0, 0, 0]])\n",
    "    @ true_states_i\n",
    ")\n",
    "\n",
    "# plot the true locations of objects\n",
    "fig, axs = plt.subplots(1, 2, figsize=(10, 6))\n",
    "for ax, data, title in zip(axs, [true_states_i, true_states_f], [\"Start\", \"End\"]):\n",
    "    ax.scatter(data[0, :], data[1, :])\n",
    "    ax.set_xlabel(\"X\")\n",
    "    ax.set_ylabel(\"Y\")\n",
    "    ax.set_title(f\"True Object Locations {title}\")\n",
    "plt.show()"
   ]
  },
  {
   "cell_type": "code",
   "execution_count": null,
   "metadata": {},
   "outputs": [],
   "source": [
    "# set up tracker\n",
    "P0 = np.diag([1, 1, 5, 5]) ** 2\n",
    "tracker = BasicXyTracker(\n",
    "    threshold_confirmed=5,  # number of hits before track confirmed\n",
    "    threshold_coast=1.0,  # amount of time without measurement before deleted\n",
    "    v_max=30,  # maximum velocity allowed\n",
    "    assign_metric=\"center_dist\",  # assignment criteria\n",
    "    assign_radius=1.0,  # maximum assign distance allowed\n",
    "    P0=P0,  # initial track state covariance\n",
    ")\n",
    "\n",
    "# run simulation\n",
    "rx = ry = 0.5**2\n",
    "for i_frame in range(frames):\n",
    "    t = dt * i_frame\n",
    "    this_truths = true_states_i[:2, :] + t * true_states_i[2:, :]\n",
    "    msmts = DataContainer(\n",
    "        frame=i_frame, timestamp=t, source_identifier=\"sensor\", data=[]\n",
    "    )\n",
    "\n",
    "    # generate detections from true objects\n",
    "    m_obj = this_truths + np.array([[rx, ry]]).T * np.random.randn(2, n_tru)\n",
    "    for i in range(n_tru):\n",
    "        msmts.append(\n",
    "            CentroidDetection(\n",
    "                data=m_obj[:, i],\n",
    "                noise=np.array([rx, ry]),\n",
    "                source_identifier=\"sensor\",\n",
    "                reference=GlobalOrigin2D,\n",
    "            )\n",
    "        )\n",
    "\n",
    "    # detections from false positives\n",
    "    m_fp = np.array([[sx, sy]]).T * np.random.randn(\n",
    "        2, n_fps\n",
    "    )  # states are [x, y, vx, vy]\n",
    "    for i in range(n_fps):\n",
    "        msmts.append(\n",
    "            CentroidDetection(\n",
    "                data=m_fp[:, i],\n",
    "                noise=np.array([rx, ry]),\n",
    "                source_identifier=\"sensor\",\n",
    "                reference=GlobalOrigin2D,\n",
    "            )\n",
    "        )\n",
    "\n",
    "    # pass detections to the tracker\n",
    "    tracks = tracker(\n",
    "        detections=msmts,\n",
    "        platform=GlobalOrigin2D,\n",
    "        check_reference=False,  # if you already enforce consistent reference, set to False\n",
    "    )"
   ]
  },
  {
   "cell_type": "code",
   "execution_count": null,
   "metadata": {},
   "outputs": [],
   "source": [
    "# plot tracking results\n",
    "this_tracks = np.array([track.x[:2] for track in tracks]).T\n",
    "fig, ax = plt.subplots(1, 1, figsize=(10, 6))\n",
    "ax.scatter(this_truths[0, :], this_truths[1, :], marker=\"o\", label=\"Truths\")\n",
    "ax.scatter(this_tracks[0, :], this_tracks[1, :], marker=\"x\", label=\"Tracks\")\n",
    "ax.legend()\n",
    "plt.show()"
   ]
  },
  {
   "cell_type": "code",
   "execution_count": null,
   "metadata": {},
   "outputs": [],
   "source": []
  }
 ],
 "metadata": {
  "kernelspec": {
   "display_name": "multi-agent-ros-haJq234Z-py3.10",
   "language": "python",
   "name": "python3"
  },
  "language_info": {
   "codemirror_mode": {
    "name": "ipython",
    "version": 3
   },
   "file_extension": ".py",
   "mimetype": "text/x-python",
   "name": "python",
   "nbconvert_exporter": "python",
   "pygments_lexer": "ipython3",
   "version": "3.10.12"
  }
 },
 "nbformat": 4,
 "nbformat_minor": 2
}
