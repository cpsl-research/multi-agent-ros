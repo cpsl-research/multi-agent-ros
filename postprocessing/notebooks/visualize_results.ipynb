{
 "cells": [
  {
   "cell_type": "code",
   "execution_count": null,
   "id": "fc07103a-cc6f-4aa2-a618-84af777d4848",
   "metadata": {},
   "outputs": [],
   "source": [
    "import os\n",
    "import json\n",
    "from tqdm import tqdm\n",
    "from glob import glob\n",
    "import numpy as np\n",
    "\n",
    "import avstack\n",
    "import avapi\n",
    "\n",
    "path_to_results = \"../../../../outputs/last_run\""
   ]
  },
  {
   "cell_type": "code",
   "execution_count": null,
   "id": "93e505da-3edc-42b5-b8c1-1818edf92915",
   "metadata": {},
   "outputs": [],
   "source": [
    "# Load in the metadata\n",
    "with open(os.path.join(path_to_results, \"launch_metadata.json\"), 'r') as f:\n",
    "    launch_metadata = json.load(f)\n",
    "with open(os.path.join(path_to_results, \"simulator\", \"metadata.json\"), \"r\") as f:\n",
    "    sim_metadata = json.load(f)\n",
    "\n",
    "# Set up the carla dataset manager\n",
    "CSM = avapi.carla.CarlaScenesManager(data_dir=sim_metadata[\"dataset_path\"])\n",
    "CDM = CSM.get_scene_dataset_by_index(sim_metadata[\"scene_idx\"])\n",
    "all_ts = np.array(CDM.timestamps)\n",
    "\n",
    "# Get the frame/time mappings\n",
    "with open(os.path.join(path_to_results, \"simulator\", \"idx_to_frame_map.txt\"), \"r\") as f:\n",
    "    idx_to_frame_map = {int(line.rstrip().split()[0]): int(line.rstrip().split()[1]) for line in f.readlines()}\n",
    "frame_to_idx_map = {v:k for k, v in idx_to_frame_map.items()}\n",
    "\n",
    "# Load in the agent paths\n",
    "output_paths = {}\n",
    "frame_to_output_index = {}\n",
    "for agent in [\"ego\"] + [f\"agent{i}\" for i in range(launch_metadata[\"n_infrastructure_agents\"])]:\n",
    "    output_paths[agent] = {}\n",
    "    frame_to_output_index[agent] = {}\n",
    "    for subfolder in [\"detections\", \"tracks\"]:\n",
    "        path_to_sub = os.path.join(path_to_results, agent, subfolder)\n",
    "        files_in_folder = [os.path.basename(file) for file in sorted(glob(os.path.join(path_to_sub, \"*.txt\")))]\n",
    "        output_paths[agent][subfolder] = {}\n",
    "        frame_to_output_index[agent][subfolder] = {}\n",
    "        for i, file in enumerate(files_in_folder):\n",
    "            ts = float(file.split('-')[3].replace('.txt', ''))\n",
    "            frame = CDM.frames[np.argmin(abs(all_ts - ts))]\n",
    "            idx = frame_to_idx_map[frame]\n",
    "            output_paths[agent][subfolder][i] = {\n",
    "                \"timestamp\":ts,\n",
    "                \"idx\": idx,\n",
    "                \"frame\": frame,\n",
    "                \"path\": os.path.join(path_to_sub, file)\n",
    "            }\n",
    "            frame_to_output_index[agent][subfolder][frame] = i\n",
    "        print(\"Recognized {} files for agent {} in subfolder {}\".format(len(files_in_folder), agent, subfolder))"
   ]
  },
  {
   "cell_type": "code",
   "execution_count": null,
   "id": "8d04c02d-d872-4b55-b8ba-29d56494bf6d",
   "metadata": {},
   "outputs": [],
   "source": [
    "def _get_base(agent, frame, subfolder, decoder):\n",
    "    # load up the tracks\n",
    "    index = frame_to_output_index[agent][subfolder][frame]\n",
    "    file = output_paths[agent][subfolder][index][\"path\"]\n",
    "    with open(file, \"rb\") as f:\n",
    "        objects = json.load(f, cls=decoder)\n",
    "\n",
    "    # replace passive reference with active\n",
    "    for obj in objects:\n",
    "        if isinstance(obj.reference, avstack.geometry.PassiveReferenceFrame):\n",
    "            if obj.reference.frame_id == \"ego\":\n",
    "                reference = CDM.get_ego_reference(frame)\n",
    "            else:\n",
    "                raise NotImplementedError\n",
    "            obj.reference = reference\n",
    "            obj.where_is_t = \"bottom\"  # HACK for tracks\n",
    "            obj.q.reference = reference  # HACK for tracks\n",
    "\n",
    "    return objects\n",
    "\n",
    "\n",
    "def get_detections(agent, frame):\n",
    "    return _get_base(agent, frame, \"detections\", avstack.modules.perception.detections.DetectionContainerDecoder)\n",
    "\n",
    "\n",
    "def get_tracks(agent, frame):\n",
    "    return _get_base(agent, frame, \"tracks\", avstack.modules.tracking.tracks.TrackContainerDecoder)"
   ]
  },
  {
   "cell_type": "markdown",
   "id": "22454e3e-9bf5-485c-a977-917c47778cf1",
   "metadata": {},
   "source": [
    "## Visualize ego information"
   ]
  },
  {
   "cell_type": "code",
   "execution_count": null,
   "id": "6aa06a7b-5375-4003-831f-7b642d042336",
   "metadata": {},
   "outputs": [],
   "source": [
    "idx_frame = 10\n",
    "frame = CDM.get_frames(sensor=\"main_camera\")[idx_frame]\n",
    "img = CDM.get_image(frame=idx_frame, sensor=\"main_camera\")\n",
    "tracks = get_tracks(agent=\"ego\", frame=frame)\n",
    "objects = CDM.get_objects(frame=idx_frame, sensor=\"main_camera\")\n",
    "\n",
    "# visualize snapshot\n",
    "avapi.visualize.snapshot.show_image_with_boxes(img, tracks, inline=True)"
   ]
  },
  {
   "cell_type": "code",
   "execution_count": null,
   "id": "520c8d3d-401c-4d58-bb1b-6cd3241c3e1b",
   "metadata": {},
   "outputs": [],
   "source": [
    "# make movie\n",
    "frames = list(frame_to_output_index[agent][\"tracks\"].keys())[:-2]\n",
    "print(\"loading frames\")\n",
    "all_imgs = [CDM.get_image(frame=frame, sensor=\"main_camera\") for frame in tqdm(frames)]\n",
    "print(\"loading tracks\")\n",
    "all_tracks = [get_tracks(agent=\"ego\", frame=frame) for frame in tqdm(frames)]\n",
    "avapi.visualize.movie.make_movie(\n",
    "    raw_imgs=all_imgs, boxes=all_tracks, save=True, name=\"ego_playback.mov\", show_in_notebook=True\n",
    ")"
   ]
  },
  {
   "cell_type": "code",
   "execution_count": null,
   "id": "ba691053-ae41-4dc2-a0c9-4435eb619086",
   "metadata": {},
   "outputs": [],
   "source": []
  }
 ],
 "metadata": {
  "kernelspec": {
   "display_name": "Python 3 (ipykernel)",
   "language": "python",
   "name": "python3"
  },
  "language_info": {
   "codemirror_mode": {
    "name": "ipython",
    "version": 3
   },
   "file_extension": ".py",
   "mimetype": "text/x-python",
   "name": "python",
   "nbconvert_exporter": "python",
   "pygments_lexer": "ipython3",
   "version": "3.10.12"
  }
 },
 "nbformat": 4,
 "nbformat_minor": 5
}
