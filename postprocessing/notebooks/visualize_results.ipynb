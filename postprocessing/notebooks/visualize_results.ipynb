{
 "cells": [
  {
   "cell_type": "code",
   "execution_count": null,
   "id": "fc07103a-cc6f-4aa2-a618-84af777d4848",
   "metadata": {},
   "outputs": [],
   "source": [
    "import os\n",
    "import json\n",
    "from glob import glob\n",
    "import numpy as np\n",
    "\n",
    "import avstack\n",
    "import avapi\n",
    "\n",
    "path_to_results = \"../../../../outputs/last_run\""
   ]
  },
  {
   "cell_type": "code",
   "execution_count": null,
   "id": "93e505da-3edc-42b5-b8c1-1818edf92915",
   "metadata": {},
   "outputs": [],
   "source": [
    "# Load in the metadata\n",
    "with open(os.path.join(path_to_results, \"launch_metadata.json\"), 'r') as f:\n",
    "    launch_metadata = json.load(f)\n",
    "with open(os.path.join(path_to_results, \"simulator\", \"metadata.json\"), \"r\") as f:\n",
    "    sim_metadata = json.load(f)\n",
    "\n",
    "# Set up the carla dataset manager\n",
    "CSM = avapi.carla.CarlaScenesManager(data_dir=sim_metadata[\"dataset_path\"])\n",
    "CDM = CSM.get_scene_dataset_by_index(sim_metadata[\"scene_idx\"])\n",
    "all_ts = np.array(CDM.timestamps)\n",
    "\n",
    "# Get the frame/time mappings\n",
    "with open(os.path.join(path_to_results, \"simulator\", \"idx_to_frame_map.txt\"), \"r\") as f:\n",
    "    idx_to_frame_map = {int(line.rstrip().split()[0]): int(line.rstrip().split()[1]) for line in f.readlines()}\n",
    "frame_to_idx_map = {v:k for k, v in idx_to_frame_map.items()}\n",
    "\n",
    "# Load in the agent paths\n",
    "output_paths = {}\n",
    "for agent in [\"ego\"] + [f\"agent{i}\" for i in range(launch_metadata[\"n_infrastructure_agents\"])]:\n",
    "    output_paths[agent] = {}\n",
    "    for subfolder in [\"detections\", \"tracks\"]:\n",
    "        path_to_sub = os.path.join(path_to_results, agent, subfolder)\n",
    "        files_in_folder = [os.path.basename(file) for file in sorted(glob(os.path.join(path_to_sub, \"*.txt\")))]\n",
    "        output_paths[agent][subfolder] = {}\n",
    "        for i, file in enumerate(files_in_folder):\n",
    "            ts = float(file.split('-')[3].replace('.txt', ''))\n",
    "            frame = CDM.frames[np.argmin(abs(all_ts - ts))]\n",
    "            idx = frame_to_idx_map[frame]\n",
    "            output_paths[agent][subfolder][i] = {\n",
    "                \"timestamp\":ts,\n",
    "                \"idx\": idx,\n",
    "                \"frame\": frame,\n",
    "                \"path\": os.path.join(path_to_sub, file)\n",
    "            }"
   ]
  },
  {
   "cell_type": "code",
   "execution_count": null,
   "id": "7ec3f4c1-47ce-4180-ada0-b1ab2e38b90f",
   "metadata": {},
   "outputs": [],
   "source": [
    "output_paths"
   ]
  },
  {
   "cell_type": "code",
   "execution_count": null,
   "id": "f2daa5f8-36dc-45a9-9cc5-6d9cd4019355",
   "metadata": {},
   "outputs": [],
   "source": [
    "idx_to_frame_map"
   ]
  },
  {
   "cell_type": "code",
   "execution_count": null,
   "id": "ee7080fd-31f5-4464-8ce5-2a7935cd88fb",
   "metadata": {},
   "outputs": [],
   "source": [
    "ts"
   ]
  },
  {
   "cell_type": "code",
   "execution_count": null,
   "id": "797fca58-e6c7-4815-8b50-2d872aa5049b",
   "metadata": {},
   "outputs": [],
   "source": [
    "all_ts"
   ]
  },
  {
   "cell_type": "code",
   "execution_count": null,
   "id": "41243d63-f22f-4fcd-a8af-00307533dcd4",
   "metadata": {},
   "outputs": [],
   "source": [
    "len(output_paths[\"ego\"][\"detections\"])"
   ]
  },
  {
   "cell_type": "markdown",
   "id": "22454e3e-9bf5-485c-a977-917c47778cf1",
   "metadata": {},
   "source": [
    "## Visualize ego information"
   ]
  },
  {
   "cell_type": "code",
   "execution_count": null,
   "id": "6aa06a7b-5375-4003-831f-7b642d042336",
   "metadata": {},
   "outputs": [],
   "source": []
  },
  {
   "cell_type": "code",
   "execution_count": null,
   "id": "520c8d3d-401c-4d58-bb1b-6cd3241c3e1b",
   "metadata": {},
   "outputs": [],
   "source": []
  }
 ],
 "metadata": {
  "kernelspec": {
   "display_name": "Python 3 (ipykernel)",
   "language": "python",
   "name": "python3"
  },
  "language_info": {
   "codemirror_mode": {
    "name": "ipython",
    "version": 3
   },
   "file_extension": ".py",
   "mimetype": "text/x-python",
   "name": "python",
   "nbconvert_exporter": "python",
   "pygments_lexer": "ipython3",
   "version": "3.10.12"
  }
 },
 "nbformat": 4,
 "nbformat_minor": 5
}
