{
 "cells": [
  {
   "cell_type": "code",
   "execution_count": null,
   "id": "7dd5cf1a-64f8-4951-bbfc-b47f90745963",
   "metadata": {},
   "outputs": [],
   "source": [
    "import numpy as np\n",
    "import pandas as pd\n",
    "import pickle"
   ]
  },
  {
   "cell_type": "markdown",
   "id": "9120cb0c-b3fe-4cb0-a6eb-74d6eddb79d6",
   "metadata": {},
   "source": [
    "## Load data"
   ]
  },
  {
   "cell_type": "code",
   "execution_count": null,
   "id": "e81d647f-6689-4735-ab66-81b97bdd233c",
   "metadata": {},
   "outputs": [],
   "source": [
    "# load in data\n",
    "with open('all_metrics.p', 'rb') as f:\n",
    "    all_metrics = pickle.load(f)"
   ]
  },
  {
   "cell_type": "code",
   "execution_count": null,
   "id": "f0cff94f-1cd5-42ff-9d53-5727bac738a5",
   "metadata": {},
   "outputs": [],
   "source": [
    "# convert to rows of data\n",
    "metrics_distilled = {}\n",
    "functions = [(\"mean\", np.mean), (\"median\", np.median), (\"std\", np.std)]\n",
    "for run in all_metrics:\n",
    "    if run == \"baseline\":\n",
    "        continue\n",
    "    metrics_this_run = {}\n",
    "    for metric in all_metrics[run][\"metrics\"]:\n",
    "        for func_name, func in functions:\n",
    "            if isinstance(all_metrics[run][\"metrics\"][metric], dict):\n",
    "                for agent, values in all_metrics[run][\"metrics\"][metric].items():\n",
    "                    met_agent_name = \"{}_{}_{}\".format(metric, agent, func_name)\n",
    "                    metrics_this_run[met_agent_name] = func(values)\n",
    "            else:\n",
    "                met_agent_name = \"{}_{}\".format(metric, func_name)\n",
    "                metrics_this_run[met_agent_name] = func(all_metrics[run][\"metrics\"][metric])\n",
    "    metrics_distilled[run] = metrics_this_run\n",
    "\n",
    "# convert to dataframe for visualization\n",
    "df = pd.DataFrame.from_dict(metrics_distilled).T\n",
    "print(df.shape)\n",
    "df"
   ]
  },
  {
   "cell_type": "markdown",
   "id": "5d0df3f1-1944-4419-b9c0-147b933a59ac",
   "metadata": {},
   "source": [
    "## Turn into a table"
   ]
  },
  {
   "cell_type": "code",
   "execution_count": null,
   "id": "76269fa7-37bb-4e1c-8905-adf91d029b8a",
   "metadata": {},
   "outputs": [],
   "source": [
    "subrow_formatter = '\\tworowsubtablecenter{{{}}}{{\\tworowsubtablecenter{{{}}}{{{}}}}}'\n",
    "mean_or_median = \"mean\"\n",
    "\n",
    "results_tex = []\n",
    "for i, (run, metrics) in enumerate(metrics_distilled.items()):\n",
    "    coordinated = not \"un\" in run\n",
    "    n_attackers = run.split(\"_\")[1]\n",
    "    metrics_as_strings = {}\n",
    "    metric_names = {met_name.replace(\"_mean\", \"\").replace(\"_median\", \"\").replace(\"_std\", \"\") for met_name in metrics}\n",
    "    for met_name in metric_names:\n",
    "        met_name_tex = met_name.replace(\"_\", \"\\_\")\n",
    "        if \"agent\" in met_name:\n",
    "            agent_num = int(met_name.split(\"_\")[1].replace(\"agent\", \"\"))\n",
    "            if agent_num > int(n_attackers):\n",
    "                metrics_as_strings[met_name_tex] = \"N/A\"\n",
    "                continue\n",
    "        metrics_as_strings[met_name_tex] = \"{:4.2f} +/- {:4.2f}\".format(\n",
    "            metrics[\"{}_{}\".format(met_name, mean_or_median)],\n",
    "            metrics[\"{}_{}\".format(met_name, \"std\")],\n",
    "        )\n",
    "    sorted_metrics = dict(sorted(metrics_as_strings.items()))\n",
    "    tex_row = {\n",
    "        \"Run ID\": \"{}-{}\".format(\"C\" if coordinated else \"UC\", n_attackers),\n",
    "        \"Coord?\": coordinated,\n",
    "        \"\\# Adv\": n_attackers,\n",
    "        **sorted_metrics,\n",
    "    }\n",
    "    results_tex.append(tex_row)"
   ]
  },
  {
   "cell_type": "code",
   "execution_count": null,
   "id": "7a598080-3ef8-4634-9db2-842f34cd01f0",
   "metadata": {},
   "outputs": [],
   "source": []
  },
  {
   "cell_type": "code",
   "execution_count": null,
   "id": "796afb35-dd5a-4f1d-8120-e65d886bd477",
   "metadata": {},
   "outputs": [],
   "source": []
  },
  {
   "cell_type": "code",
   "execution_count": null,
   "id": "a1262921-6691-4d1a-b84e-1ac97860be1d",
   "metadata": {},
   "outputs": [],
   "source": [
    "df_tex_ca"
   ]
  },
  {
   "cell_type": "code",
   "execution_count": null,
   "id": "0f7021cf-7210-438b-b952-7868d1e9e044",
   "metadata": {},
   "outputs": [],
   "source": [
    "# convert to df and drop all nan columns\n",
    "df_tex = pd.DataFrame(results_tex)\n",
    "for col in df_tex:\n",
    "    if (df_tex[col] == df_tex[col][0]).all():\n",
    "        df_tex.drop(columns=[col], inplace=True)\n",
    "\n",
    "# separate into two dataframes -- one for CAFN/FP\n",
    "col_ca = [col for col in df_tex.columns if \"CAF\" in col]\n",
    "col_er = [col for col in df_tex.columns if \"ERCC\" in col]\n",
    "df_tex_er = df_tex.drop(columns=col_ca)\n",
    "df_tex_ca = df_tex.drop(columns=col_er)\n",
    "\n",
    "# convert to tex\n",
    "pd.set_option('display.max_colwidth',1000)\n",
    "tex_string_er = df_tex_er.to_latex(index=False, multirow=True, escape=False).replace('\\\\\\\\\\n', '\\\\\\\\ \\\\midrule\\n')\n",
    "tex_string_ca = df_tex_ca.to_latex(index=False, multirow=True, escape=False).replace('\\\\\\\\\\n', '\\\\\\\\ \\\\midrule\\n')\n",
    "print(\"\\\\begin{subtable}[t]{\\\\linewidth}\\n\\\\centering\")\n",
    "print(tex_string_er, end=\"\")\n",
    "print(\"\\\\caption{\\\\panelonesubcaption}\")\n",
    "print(\"\\\\end{subtable}\")\n",
    "print(\"\\\\begin{subtable}[t]{\\\\linewidth}\\n\\\\centering\")\n",
    "print(tex_string_ca, end=\"\")\n",
    "print(\"\\\\caption{\\\\paneltwosubcaption}\")\n",
    "print(\"\\\\end{subtable}\")"
   ]
  },
  {
   "cell_type": "code",
   "execution_count": null,
   "id": "6368b207-b456-4567-85d5-7c14dc871257",
   "metadata": {},
   "outputs": [],
   "source": []
  }
 ],
 "metadata": {
  "kernelspec": {
   "display_name": "Python 3 (ipykernel)",
   "language": "python",
   "name": "python3"
  },
  "language_info": {
   "codemirror_mode": {
    "name": "ipython",
    "version": 3
   },
   "file_extension": ".py",
   "mimetype": "text/x-python",
   "name": "python",
   "nbconvert_exporter": "python",
   "pygments_lexer": "ipython3",
   "version": "3.10.12"
  }
 },
 "nbformat": 4,
 "nbformat_minor": 5
}
