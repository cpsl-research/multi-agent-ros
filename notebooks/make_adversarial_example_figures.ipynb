{
 "cells": [
  {
   "cell_type": "code",
   "execution_count": null,
   "metadata": {},
   "outputs": [],
   "source": [
    "import os\n",
    "import numpy as np\n",
    "import matplotlib.pyplot as plt\n",
    "from matplotlib.patches import Polygon as MplPolygon\n",
    "from matplotlib import rc\n",
    "\n",
    "SMALL_SIZE = 14\n",
    "MEDIUM_SIZE = 16\n",
    "BIGGER_SIZE = 18\n",
    "\n",
    "plt.rc('font', size=SMALL_SIZE)          # controls default text sizes\n",
    "plt.rc('axes', titlesize=SMALL_SIZE)     # fontsize of the axes title\n",
    "plt.rc('axes', labelsize=MEDIUM_SIZE)    # fontsize of the x and y labels\n",
    "plt.rc('xtick', labelsize=SMALL_SIZE)    # fontsize of the tick labels\n",
    "plt.rc('ytick', labelsize=SMALL_SIZE)    # fontsize of the tick labels\n",
    "plt.rc('legend', fontsize=SMALL_SIZE)    # legend fontsize\n",
    "plt.rc('figure', titlesize=BIGGER_SIZE)  # fontsize of the figure title\n",
    "\n",
    "fig_dir = \"figures\"\n",
    "os.makedirs(fig_dir, exist_ok=True)\n",
    "\n",
    "adv_out_dir = os.path.join(fig_dir, \"adversarial\")\n",
    "os.makedirs(adv_out_dir, exist_ok=True)"
   ]
  },
  {
   "cell_type": "code",
   "execution_count": null,
   "metadata": {},
   "outputs": [],
   "source": [
    "from avapi.carla import CarlaScenesManager\n",
    "\n",
    "data_root = \"/data/shared/CARLA/multi-agent-intersection/\"\n",
    "CSM = CarlaScenesManager(data_dir=data_root, split=\"train\")\n",
    "idx_scene = 3\n",
    "CDM = CSM.get_scene_dataset_by_index(idx_scene)"
   ]
  },
  {
   "cell_type": "markdown",
   "metadata": {},
   "source": [
    "## Apply an adversary model on top of the raw data\n",
    "\n",
    "Show temporal evolution"
   ]
  },
  {
   "cell_type": "code",
   "execution_count": null,
   "metadata": {},
   "outputs": [],
   "source": [
    "# get a lidar point cloud\n",
    "idx_frame = 60\n",
    "frames = CDM.get_frames(sensor=\"lidar-0\", agent=0)\n",
    "agent0 = CDM.get_agent(frame=frames[idx_frame], agent=0)\n",
    "pc = CDM.get_lidar(frame=frames[idx_frame], sensor=\"lidar-0\", agent=0)\n",
    "img_front = CDM.get_image(frame=frames[idx_frame], sensor=\"camera-0\", agent=0)\n",
    "img_back = CDM.get_image(frame=frames[idx_frame], sensor=\"camera-1\", agent=0)"
   ]
  },
  {
   "cell_type": "code",
   "execution_count": null,
   "metadata": {},
   "outputs": [],
   "source": [
    "from avsec.multi_agent.adversary import AdversaryModel\n",
    "from avsec.multi_agent.manifest import FalsePositiveManifest, FalseNegativeManifest, TranslationManifest\n",
    "from avsec.multi_agent.propagation import MarkovPropagator\n",
    "\n",
    "\n",
    "manifests = [\n",
    "    FalsePositiveManifest(seed=0, exact_select=2),\n",
    "    FalseNegativeManifest(seed=0, exact_select=2),\n",
    "    TranslationManifest(seed=0, exact_select=2),\n",
    "\n",
    "]\n",
    "\n",
    "# show different manifest behaviors\n",
    "for manifest in manifests:\n",
    "    # set up the adversary\n",
    "    adversary = AdversaryModel(\n",
    "        propagator=MarkovPropagator(),\n",
    "        manifest=manifest,\n",
    "        dt_init=2,\n",
    "        dt_reset=20,\n",
    "        seed=0,\n",
    "    )\n",
    "\n",
    "    # loop over frames for experiment\n",
    "    objs_all = []\n",
    "    for frame in CDM.get_frames(sensor=\"lidar-0\", agent=0)[4:]:\n",
    "        # load the next set of data\n",
    "        agent = CDM.get_agent(frame=frame, agent=0)\n",
    "        objs_agent = CDM.get_objects(frame=frame, sensor=\"lidar-0\", agent=0)\n",
    "\n",
    "        # run the adversary\n",
    "        objs_out = adversary(objs_agent, fov=None, reference=agent.as_reference())\n",
    "\n",
    "        # save the objects\n",
    "        objs_all.append(objs_out)\n",
    "\n",
    "    # make the trajectory image\n",
    "    pass\n"
   ]
  },
  {
   "cell_type": "code",
   "execution_count": null,
   "metadata": {},
   "outputs": [],
   "source": []
  }
 ],
 "metadata": {
  "kernelspec": {
   "display_name": "Python 3 (ipykernel)",
   "language": "python",
   "name": "python3"
  },
  "language_info": {
   "codemirror_mode": {
    "name": "ipython",
    "version": 3
   },
   "file_extension": ".py",
   "mimetype": "text/x-python",
   "name": "python",
   "nbconvert_exporter": "python",
   "pygments_lexer": "ipython3",
   "version": "3.10.12"
  }
 },
 "nbformat": 4,
 "nbformat_minor": 4
}
